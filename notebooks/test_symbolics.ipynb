{
 "cells": [
  {
   "attachments": {},
   "cell_type": "markdown",
   "metadata": {},
   "source": [
    "# Test Symbolics.jl"
   ]
  },
  {
   "cell_type": "code",
   "execution_count": 28,
   "metadata": {},
   "outputs": [
    {
     "data": {
      "text/plain": [
       "lotka_volterra! (generic function with 1 method)"
      ]
     },
     "metadata": {},
     "output_type": "display_data"
    }
   ],
   "source": [
    "using Symbolics\n",
    "function lotka_volterra!(du, u, p, t)\n",
    "  x, y = u\n",
    "  α, β, δ, γ = p\n",
    "  du[1] = dx = α*x - β*x*y\n",
    "  du[2] = dy = -δ*y + γ*x*y\n",
    "end"
   ]
  },
  {
   "cell_type": "code",
   "execution_count": 29,
   "metadata": {},
   "outputs": [
    {
     "data": {
      "text/latex": [
       "$$ \\begin{equation}\n",
       "\\left[\n",
       "\\begin{array}{c}\n",
       "p_1 u_1 - p_2 u_1 u_2 \\\\\n",
       " - p_3 u_2 + p_4 u_1 u_2 \\\\\n",
       "\\end{array}\n",
       "\\right]\n",
       "\\end{equation}\n",
       " $$"
      ],
      "text/plain": [
       "2-element Vector{Num}:\n",
       " p[1]*u[1] - p[2]*u[1]*u[2]\n",
       " p[4]*u[1]*u[2] - p[3]*u[2]"
      ]
     },
     "metadata": {},
     "output_type": "display_data"
    }
   ],
   "source": [
    "@variables t du[1:2] u[1:2] p[1:4]\n",
    "du = collect(du)\n",
    "lotka_volterra!(du, u, p, t)\n",
    "du\n"
   ]
  },
  {
   "cell_type": "code",
   "execution_count": 52,
   "metadata": {},
   "outputs": [
    {
     "data": {
      "text/plain": [
       "0.5700935946618089"
      ]
     },
     "metadata": {},
     "output_type": "display_data"
    }
   ],
   "source": [
    "du0 = rand(2)\n",
    "A0 = rand(2, 2)\n",
    "H0 = rand(2, 2, 2)\n",
    "u0 = rand(2)\n",
    "p0 = rand(4)\n",
    "t0 = rand()"
   ]
  },
  {
   "cell_type": "code",
   "execution_count": 53,
   "metadata": {},
   "outputs": [
    {
     "data": {
      "text/plain": [
       "RuntimeGeneratedFunction(#=in Symbolics=#, #=using Symbolics=#, :((du, u, p, t)->begin\n",
       "          #= /Users/astomodynamics/.julia/packages/Symbolics/3jLt1/src/build_function.jl:775 =#\n",
       "          ccall((\"diffeqf\", \"/var/folders/t6/s10dx_c10zsfxr8ymgs3nnv80000gn/T/jl_zALgLwBQbq\"), Cvoid, (Ptr{Float64}, Ptr{Float64}, Ptr{Float64}, Float64), du, u, p, t)\n",
       "      end))"
      ]
     },
     "metadata": {},
     "output_type": "display_data"
    }
   ],
   "source": [
    "f = build_function(du, u, p, t, target=Symbolics.CTarget(), expression=Val{false})"
   ]
  },
  {
   "cell_type": "code",
   "execution_count": 57,
   "metadata": {},
   "outputs": [
    {
     "name": "stdout",
     "output_type": "stream",
     "text": [
      "[0.5072773446876787, 0.7480898183279452]\n"
     ]
    },
    {
     "data": {
      "text/plain": [
       "2-element Vector{Float64}:\n",
       "  0.06006955983929846\n",
       " -0.2007612442040133"
      ]
     },
     "metadata": {},
     "output_type": "display_data"
    }
   ],
   "source": [
    "dx = rand(2)\n",
    "println(dx)\n",
    "f(dx, u0, p0, t0)\n",
    "dx"
   ]
  },
  {
   "cell_type": "code",
   "execution_count": 56,
   "metadata": {},
   "outputs": [
    {
     "data": {
      "text/plain": [
       "2-element Vector{Float64}:\n",
       "  0.06006955983929846\n",
       " -0.2007612442040133"
      ]
     },
     "metadata": {},
     "output_type": "display_data"
    }
   ],
   "source": [
    "[p0[1] * u0[1] - p0[2] * u0[1] * u0[2]\n",
    "-p0[3] * u0[2] + p0[4] * u0[1] * u0[2]]"
   ]
  },
  {
   "cell_type": "code",
   "execution_count": 59,
   "metadata": {},
   "outputs": [
    {
     "data": {
      "text/latex": [
       "$$ \\begin{equation}\n",
       "\\left[\n",
       "\\begin{array}{cc}\n",
       " - p_2 u_2 + p_1 &  - p_2 u_1 \\\\\n",
       "p_4 u_2 &  - p_3 + p_4 u_1 \\\\\n",
       "\\end{array}\n",
       "\\right]\n",
       "\\end{equation}\n",
       " $$"
      ],
      "text/plain": [
       "2×2 Matrix{Num}:\n",
       " p[1] - p[2]*u[2]        -p[2]*u[1]\n",
       "        p[4]*u[2]  p[4]*u[1] - p[3]"
      ]
     },
     "metadata": {},
     "output_type": "display_data"
    }
   ],
   "source": [
    "# ∇f = Symbolics.jacobian((u) -> f(du, u, p, t), u)\n",
    "∇f = Symbolics.jacobian(du, u)\n"
   ]
  },
  {
   "cell_type": "code",
   "execution_count": 60,
   "metadata": {},
   "outputs": [
    {
     "data": {
      "text/plain": [
       "RuntimeGeneratedFunction(#=in Symbolics=#, #=using Symbolics=#, :((du, u, p, t)->begin\n",
       "          #= /Users/astomodynamics/.julia/packages/Symbolics/3jLt1/src/build_function.jl:775 =#\n",
       "          ccall((\"diffeqf\", \"/var/folders/t6/s10dx_c10zsfxr8ymgs3nnv80000gn/T/jl_rSXSvozq7S\"), Cvoid, (Ptr{Float64}, Ptr{Float64}, Ptr{Float64}, Float64), du, u, p, t)\n",
       "      end))"
      ]
     },
     "metadata": {},
     "output_type": "display_data"
    }
   ],
   "source": [
    "∇f = Symbolics.build_function(∇f, u, p, t, target=Symbolics.CTarget(), expression=Val{false})"
   ]
  },
  {
   "cell_type": "code",
   "execution_count": 61,
   "metadata": {},
   "outputs": [
    {
     "name": "stdout",
     "output_type": "stream",
     "text": [
      "[1.0 2.0; 1.2 0.1]\n"
     ]
    },
    {
     "data": {
      "text/plain": [
       "2×2 Matrix{Float64}:\n",
       " 0.126007   -0.0636915\n",
       " 0.0739126  -0.77123"
      ]
     },
     "metadata": {},
     "output_type": "display_data"
    }
   ],
   "source": [
    "A = [1.0 2.0; 1.2 0.1]\n",
    "println(A)\n",
    "∇f(A, u0, p0, t0)\n",
    "A"
   ]
  },
  {
   "cell_type": "code",
   "execution_count": 66,
   "metadata": {},
   "outputs": [
    {
     "data": {
      "text/plain": [
       "2×2 Matrix{Float64}:\n",
       " 0.126007   -0.0636915\n",
       " 0.0739126  -0.77123"
      ]
     },
     "metadata": {},
     "output_type": "display_data"
    }
   ],
   "source": [
    "[\n",
    "    -p0[2] * u0[2] + p0[1]    -p0[2] * u0[1]\n",
    "    p0[4] * u0[2]   -p0[3] + p0[4] * u0[1]]"
   ]
  },
  {
   "cell_type": "code",
   "execution_count": 67,
   "metadata": {},
   "outputs": [
    {
     "data": {
      "text/latex": [
       "$$ \\begin{equation}\n",
       "\\left[\n",
       "\\begin{array}{cc}\n",
       "0 &  - p_2 \\\\\n",
       "0 & p_4 \\\\\n",
       " - p_2 & 0 \\\\\n",
       "p_4 & 0 \\\\\n",
       "\\end{array}\n",
       "\\right]\n",
       "\\end{equation}\n",
       " $$"
      ],
      "text/plain": [
       "4×2 Matrix{Num}:\n",
       "     0  -p[2]\n",
       "     0   p[4]\n",
       " -p[2]      0\n",
       "  p[4]      0"
      ]
     },
     "metadata": {},
     "output_type": "display_data"
    }
   ],
   "source": [
    "∇f = Symbolics.jacobian(du, u)\n",
    "∇2f = Symbolics.jacobian(∇f, u)"
   ]
  },
  {
   "cell_type": "code",
   "execution_count": 68,
   "metadata": {},
   "outputs": [
    {
     "name": "stdout",
     "output_type": "stream",
     "text": [
      "[0.9359915116573716 0.4682478982122513; 0.8506274527032879 0.7351350264010803;;; 0.9996746966754817 0.7516198606332631; 0.06225947232277529 0.9401037879482768]\n"
     ]
    },
    {
     "data": {
      "text/plain": [
       "2×2×2 Array{Float64, 3}:\n",
       "[:, :, 1] =\n",
       " 0.0  -0.133604\n",
       " 0.0   0.283937\n",
       "\n",
       "[:, :, 2] =\n",
       " -0.133604  0.0\n",
       "  0.283937  0.0"
      ]
     },
     "metadata": {},
     "output_type": "display_data"
    }
   ],
   "source": [
    "\n",
    "# ∇2f = reshape(∇2f, 2, 2, 2)\n",
    "∇2f = Symbolics.build_function(∇2f, u, p, t, target=Symbolics.CTarget(), expression=Val{false})\n",
    "\n",
    "H = rand(2, 2, 2)\n",
    "println(H)\n",
    "∇2f(H, u0, p0, t0)\n",
    "# rand(4)\n",
    "H"
   ]
  },
  {
   "cell_type": "code",
   "execution_count": 70,
   "metadata": {},
   "outputs": [
    {
     "data": {
      "text/plain": [
       "4×2 Matrix{Float64}:\n",
       "  0.0       -0.133604\n",
       "  0.0        0.283937\n",
       " -0.133604   0.0\n",
       "  0.283937   0.0"
      ]
     },
     "metadata": {},
     "output_type": "display_data"
    }
   ],
   "source": [
    "[0  -p0[2];\n",
    "0 p0[4] ; -p0[2] 0; p0[4] 0]"
   ]
  },
  {
   "cell_type": "code",
   "execution_count": 20,
   "metadata": {},
   "outputs": [
    {
     "name": "stdout",
     "output_type": "stream",
     "text": [
      "nothing\n"
     ]
    }
   ],
   "source": [
    "println(∇2f(randn(2),rand(2), rand(4), randn()))"
   ]
  },
  {
   "cell_type": "code",
   "execution_count": 5,
   "metadata": {},
   "outputs": [
    {
     "data": {
      "text/plain": [
       "\"#include <math.h>\\nvoid diffeqf(double* du, const double* RHS1, const double* RHS2, const double RHS3) {\\n  du[0] = RHS2[0] * RHS1[0] + -1 * RHS2[1] * RHS1[0] * RHS1[1];\\n  du[1] = -1 * RHS2[2] * RHS1[1] + RHS2[3] * RHS1[0] * RHS1[1];\\n}\\n\""
      ]
     },
     "metadata": {},
     "output_type": "display_data"
    }
   ],
   "source": [
    "build_function(du, u, p, t, target=Symbolics.CTarget())"
   ]
  },
  {
   "cell_type": "code",
   "execution_count": 6,
   "metadata": {},
   "outputs": [
    {
     "data": {
      "text/plain": [
       "RuntimeGeneratedFunction(#=in Symbolics=#, #=using Symbolics=#, :((du, u, p, t)->begin\n",
       "          #= /Users/astomodynamics/.julia/packages/Symbolics/3jLt1/src/build_function.jl:775 =#\n",
       "          ccall((\"diffeqf\", \"/var/folders/t6/s10dx_c10zsfxr8ymgs3nnv80000gn/T/jl_pyHaRGJQBa\"), Cvoid, (Ptr{Float64}, Ptr{Float64}, Ptr{Float64}, Float64), du, u, p, t)\n",
       "      end))"
      ]
     },
     "metadata": {},
     "output_type": "display_data"
    }
   ],
   "source": [
    "f = build_function(du, u, p, t, target=Symbolics.CTarget(), expression=Val{false})"
   ]
  },
  {
   "cell_type": "code",
   "execution_count": 7,
   "metadata": {},
   "outputs": [
    {
     "data": {
      "text/plain": [
       "true"
      ]
     },
     "metadata": {},
     "output_type": "display_data"
    }
   ],
   "source": [
    "du = rand(2); du2 = rand(2)\n",
    "u = rand(2)\n",
    "p = rand(4)\n",
    "t = rand()\n",
    "f(du, u, p, t)\n",
    "lotka_volterra!(du2, u, p, t)\n",
    "du == du2 # true!"
   ]
  },
  {
   "cell_type": "code",
   "execution_count": 13,
   "metadata": {},
   "outputs": [
    {
     "ename": "UndefVarError",
     "evalue": "UndefVarError: `jacobian!` not defined",
     "output_type": "error",
     "traceback": [
      "UndefVarError: `jacobian!` not defined\n",
      "\n",
      "Stacktrace:\n",
      " [1] getproperty(x::Module, f::Symbol)\n",
      "   @ Base ./Base.jl:31\n",
      " [2] top-level scope\n",
      "   @ ~/Dropbox (GaTech)/Dropbox_Tomo/github/CDDP.jl/notebooks/test_symbolics.ipynb:1"
     ]
    }
   ],
   "source": []
  }
 ],
 "metadata": {
  "kernelspec": {
   "display_name": "Julia 1.9.0",
   "language": "julia",
   "name": "julia-1.9"
  },
  "language_info": {
   "file_extension": ".jl",
   "mimetype": "application/julia",
   "name": "julia",
   "version": "1.9.0"
  },
  "orig_nbformat": 4
 },
 "nbformat": 4,
 "nbformat_minor": 2
}
